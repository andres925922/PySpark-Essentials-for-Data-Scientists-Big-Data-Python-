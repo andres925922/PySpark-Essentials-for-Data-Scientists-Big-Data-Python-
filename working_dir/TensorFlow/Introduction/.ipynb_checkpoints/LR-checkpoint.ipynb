{
 "cells": [
  {
   "cell_type": "code",
   "execution_count": null,
   "metadata": {},
   "outputs": [
    {
     "name": "stdout",
     "output_type": "stream",
     "text": [
      "working\n"
     ]
    }
   ],
   "source": [
    "print(\"working\")"
   ]
  },
  {
   "cell_type": "markdown",
   "metadata": {},
   "source": [
    "## Imports"
   ]
  },
  {
   "cell_type": "code",
   "execution_count": null,
   "metadata": {},
   "outputs": [],
   "source": [
    "# Core\n",
    "from __future__ import absolute_import, division, print_function, unicode_literals\n",
    "\n",
    "# Libraries\n",
    "import numpy as np\n",
    "import pyspark as ps\n",
    "import matplotlib.pyplot as plot\n",
    "from IPython.display import clear_output\n",
    "\n",
    "import tensorflow.compat.v2.feature_column as fc\n",
    "import tensorflow as tf\n",
    "\n",
    "# Utils\n",
    "\n",
    "from utils import Session\n",
    "\n",
    "\n"
   ]
  },
  {
   "cell_type": "code",
   "execution_count": null,
   "metadata": {},
   "outputs": [],
   "source": []
  }
 ],
 "metadata": {
  "kernelspec": {
   "display_name": "Python 3 (ipykernel)",
   "language": "python",
   "name": "python3"
  },
  "orig_nbformat": 4
 },
 "nbformat": 4,
 "nbformat_minor": 2
}
